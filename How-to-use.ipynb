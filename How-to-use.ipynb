{
 "cells": [
  {
   "cell_type": "markdown",
   "source": [
    "# Quafu Runtime Server"
   ],
   "metadata": {
    "collapsed": false
   }
  },
  {
   "cell_type": "markdown",
   "source": [
    "## 使用方式"
   ],
   "metadata": {
    "collapsed": false
   }
  },
  {
   "cell_type": "markdown",
   "source": [
    "### 1. 如何使用Quafu Runtime\n",
    "创建RuntimeService"
   ],
   "metadata": {
    "collapsed": false
   }
  },
  {
   "cell_type": "code",
   "execution_count": 1,
   "outputs": [],
   "source": [
    "from clients.account import Account\n",
    "from job.job import Job\n",
    "from quafu_runtime_service import RuntimeService\n",
    "# 获得用户与server交互的RuntimeService\n",
    "# RuntimeService需要传入存有用户信息的Account\n",
    "account = Account(apitoken=\"testapitoken\")\n",
    "service = RuntimeService(account)\n"
   ],
   "metadata": {
    "collapsed": false
   }
  },
  {
   "cell_type": "markdown",
   "source": [
    "### 2. 如何上传用户程序"
   ],
   "metadata": {
    "collapsed": false
   }
  },
  {
   "cell_type": "code",
   "execution_count": null,
   "outputs": [],
   "source": [
    "# 上传program，如果已经存在则失败\n",
    "metadata = {\"name\": \"long-run-task\", \"backend\": \"testbackend\"}\n",
    "id1 = service.upload_program(data='program/hello.py',metadata=metadata)\n",
    "print(id1)"
   ],
   "metadata": {
    "collapsed": false
   }
  },
  {
   "cell_type": "markdown",
   "source": [
    "### 3. 如何获得已有用户程序\n",
    "使用RuntimeService.programs以及Runtime.program接口"
   ],
   "metadata": {
    "collapsed": false
   }
  },
  {
   "cell_type": "code",
   "execution_count": 2,
   "outputs": [
    {
     "name": "stdout",
     "output_type": "stream",
     "text": [
      "--------------------------------------------------\n",
      "program_id:38c62c568b2643ee91f0625c214fca81\n",
      " -Name: for-while\n",
      " -Description: None\n",
      "--------------------------------------------------\n",
      "program_id:7a5f79b350214b279aa0f2cb6b85c811\n",
      " -Name: long-run-task\n",
      " -Description: None\n",
      "--------------------------------------------------\n",
      "program_id:7e55d4fb7ea44617adcd186049b458b6\n",
      " -Name: raise-exception\n",
      " -Description: None\n",
      "--------------------------------------------------\n",
      "program_id:d3ab487493ed4f048b8944c114dbe401\n",
      " -Name: hello\n",
      " -Description: None\n",
      "d3ab487493ed4f048b8944c114dbe401\n",
      "import numpy as np\n",
      "from quafu import QuantumCircuit\n",
      "from quafu import simulate\n",
      "# used to test api\n",
      "def prepare_circuits():\n",
      "    q = QuantumCircuit(5)\n",
      "    q.x(0)\n",
      "    q.x(1)\n",
      "    q.cnot(2, 1)\n",
      "    q.ry(1, np.pi / 2)\n",
      "    q.rx(2, np.pi)\n",
      "    q.rz(3, 0.1)\n",
      "    q.cz(2, 3)\n",
      "    measures = [0, 1, 2, 3]\n",
      "    cbits = [0, 1, 2, 3]\n",
      "    q.measure(measures,  cbits=cbits)\n",
      "    return q\n",
      "\n",
      "def run(backend, userpub, params):\n",
      "    \"\"\"The entry point of the program.\"\"\"\n",
      "    q = prepare_circuits()\n",
      "    simu_res = simulate(q)\n",
      "    print(\"Hello World!\", params)\n",
      "    return {\n",
      "        \"num\": simu_res.num,\n",
      "        \"probabilities\": simu_res.probabilities.tolist(),\n",
      "    }\n",
      "\n"
     ]
    }
   ],
   "source": [
    "# 获得用户所有program的元数据\n",
    "service.list_programs(refresh=True, detailed=False, limit=20)\n",
    "# 获得program的所有数据\n",
    "program = service.program(name=\"hello\")\n",
    "# 获得hello的program_id\n",
    "print(program['program_id'])\n",
    "# 获得hello的程序体\n",
    "print(program['data'])\n",
    "# program还有name,is_public,description,group,owner,backend属性"
   ],
   "metadata": {
    "collapsed": false
   }
  },
  {
   "cell_type": "markdown",
   "source": [
    "### 4. 如何运行一个用户程序\n",
    "使用RuntimeService.run接口"
   ],
   "metadata": {
    "collapsed": false
   }
  },
  {
   "cell_type": "code",
   "execution_count": 5,
   "outputs": [],
   "source": [
    "# 运行一个程序，可以通过指定name或program_id，返回Job实体\n",
    "job1 = service.run(name='long-run-task',inputs={'TestParam1':'xxxxxx'})"
   ],
   "metadata": {
    "collapsed": false
   }
  },
  {
   "cell_type": "markdown",
   "source": [
    "### 5. 如何获得Job的中间结果\n",
    "使用Job.interim_results接口"
   ],
   "metadata": {
    "collapsed": false
   }
  },
  {
   "cell_type": "code",
   "execution_count": 6,
   "outputs": [
    {
     "name": "stdout",
     "output_type": "stream",
     "text": [
      "Start interim result streaming for job %s 57eaf485263c415299cd94791a1c2115\n",
      "b'publish from job 10'\n",
      "b'publish from job 9'\n",
      "b'publish from job 8'\n",
      "b'publish from job 7'\n",
      "b'publish from job 6'\n",
      "b'publish from job 5'\n",
      "b'publish from job 4'\n",
      "b'publish from job 3'\n",
      "b'publish from job 2'\n",
      "b'publish from job 1'\n",
      "b'57eaf485263c415299cd94791a1c2115'\n",
      "Interim result streaming finished\n"
     ]
    }
   ],
   "source": [
    "# 定义获得消息后的回调函数\n",
    "def callback(job_id, message):\n",
    "    print(message)\n",
    "# 获得中间结果，该函数将以新的进程进行\n",
    "job1.interim_results(callback=callback)"
   ],
   "metadata": {
    "collapsed": false
   }
  },
  {
   "cell_type": "markdown",
   "source": [
    "### 6. 如何获得Job的结果\n",
    "使用Job.result接口"
   ],
   "metadata": {
    "collapsed": false
   }
  },
  {
   "cell_type": "code",
   "execution_count": 7,
   "outputs": [
    {
     "name": "stdout",
     "output_type": "stream",
     "text": [
      "{'finish_time': 'Wed, 10 May 2023 19:20:51 GMT', 'result': '{\"result\": {\"TestParam1\": \"xxxxxx\"}}', 'status': <JobStatus.DONE: 'Done'>}\n",
      "{'result': '{\"result\": {\"TestParam1\": \"xxxxxx\"}}', 'finished_time': 'Wed, 10 May 2023 19:20:51 GMT', 'status': <JobStatus.DONE: 'Done'>}\n"
     ]
    }
   ],
   "source": [
    "# 获得任务结果，无论运行完成，直接返回\n",
    "result = job1.result(wait=False)\n",
    "print(result)\n",
    "# 获得任务结果，未完成则等待\n",
    "result = job1.result(wait=True)\n",
    "print(result)"
   ],
   "metadata": {
    "collapsed": false
   }
  },
  {
   "cell_type": "markdown",
   "source": [
    "### 7. 取消获得Job中间结果\n",
    "使用Job.interim_result_cancel"
   ],
   "metadata": {
    "collapsed": false
   }
  },
  {
   "cell_type": "code",
   "execution_count": 13,
   "outputs": [
    {
     "name": "stdout",
     "output_type": "stream",
     "text": [
      "Interim result streaming finished\n"
     ]
    }
   ],
   "source": [
    "# 取消获得中间结果\n",
    "job1.interim_result_cancel()"
   ],
   "metadata": {
    "collapsed": false
   }
  },
  {
   "cell_type": "markdown",
   "source": [
    "### 8. 如何取消或删除一个Job\n",
    "使用Job.cancel和Job.delete接口"
   ],
   "metadata": {
    "collapsed": false
   }
  },
  {
   "cell_type": "code",
   "execution_count": 13,
   "outputs": [
   ],
   "source": [
    "# 取消Job\n",
    "job1.cancel()\n",
    "# 删除Job，但只会删除运行结束或取消了的任务\n",
    "# job1.delete()"
   ],
   "metadata": {
    "collapsed": false
   }
  },
  {
   "cell_type": "markdown",
   "source": [
    "### 9. 如何获得任务的各项信息"
   ],
   "metadata": {
    "collapsed": false
   }
  },
  {
   "cell_type": "code",
   "execution_count": 14,
   "outputs": [
    {
     "name": "stdout",
     "output_type": "stream",
     "text": [
      "Job status: JobStatus.DONE\n",
      "Job c58c4d6693cd477ab1c4b6e9dc782c2a status: JobStatus.DONE\n",
      "Hello World! {'TestParam1': 'xxxxxx'}\n",
      "Sleep 10...\n",
      "Sleep 10...\n",
      "Sleep 10...\n",
      "Sleep 10...\n",
      "Sleep 10...\n",
      "Sleep 10...\n",
      "Sleep 10...\n",
      "Sleep 10...\n",
      "Sleep 10...\n",
      "Sleep 10...\n",
      " JobStatus.DONE The job's status is: JobStatus.DONE\n"
     ]
    }
   ],
   "source": [
    "# 获得job的日志\n",
    "logs = job1.logs()\n",
    "# 获得job的状态\n",
    "status = job1.status()\n",
    "# 获得错误信息\n",
    "err_msg = job1.err_msg()\n",
    "print(logs,status,err_msg)"
   ],
   "metadata": {
    "collapsed": false
   }
  }
 ],
 "metadata": {
  "kernelspec": {
   "display_name": "Python 3",
   "language": "python",
   "name": "python3"
  },
  "language_info": {
   "codemirror_mode": {
    "name": "ipython",
    "version": 2
   },
   "file_extension": ".py",
   "mimetype": "text/x-python",
   "name": "python",
   "nbconvert_exporter": "python",
   "pygments_lexer": "ipython2",
   "version": "2.7.6"
  }
 },
 "nbformat": 4,
 "nbformat_minor": 0
}
