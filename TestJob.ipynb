{
 "cells": [
  {
   "cell_type": "code",
   "execution_count": 1,
   "outputs": [],
   "source": [
    "import datetime\n",
    "import os\n",
    "from time import sleep\n",
    "\n",
    "from clients.account import Account\n",
    "from job.job import Job\n",
    "from quafu_runtime_service import RuntimeService"
   ],
   "metadata": {
    "collapsed": false
   }
  },
  {
   "cell_type": "code",
   "execution_count": 2,
   "outputs": [],
   "source": [
    "# Get service\n",
    "account = Account(\"testapitoken\")\n",
    "service = RuntimeService(account)"
   ],
   "metadata": {
    "collapsed": false
   }
  },
  {
   "cell_type": "code",
   "execution_count": null,
   "outputs": [],
   "source": [
    "# Test Upload program\n",
    "metadata = {\"name\": \"hello\", \"backend\": \"testbackend\"}\n",
    "id1 = service.upload_program(data='program/hello.py',metadata=metadata)\n",
    "metadata = {\"name\": \"for-while\", \"backend\": \"testbackend\"}\n",
    "id2 = service.upload_program(data='program/for-while.py',metadata=metadata)\n",
    "metadata = {\"name\": \"raise-exception\", \"backend\": \"testbackend\"}\n",
    "id3 = service.upload_program(data='program/raise-exception.py',metadata=metadata)\n"
   ],
   "metadata": {
    "collapsed": false,
    "pycharm": {
     "is_executing": true
    }
   }
  },
  {
   "cell_type": "code",
   "execution_count": null,
   "outputs": [],
   "source": [
    "# Test list program\n",
    "service.list_programs(refresh=True, detailed=False, limit=20)"
   ],
   "metadata": {
    "collapsed": false,
    "pycharm": {
     "is_executing": true
    }
   }
  },
  {
   "cell_type": "code",
   "execution_count": 5,
   "outputs": [
    {
     "name": "stdout",
     "output_type": "stream",
     "text": [
      "import numpy as np\n",
      "from quafu import QuantumCircuit\n",
      "from quafu import simulate\n",
      "# used to test api\n",
      "def prepare_circuits():\n",
      "    q = QuantumCircuit(5)\n",
      "    q.x(0)\n",
      "    q.x(1)\n",
      "    q.cnot(2, 1)\n",
      "    q.ry(1, np.pi / 2)\n",
      "    q.rx(2, np.pi)\n",
      "    q.rz(3, 0.1)\n",
      "    q.cz(2, 3)\n",
      "    measures = [0, 1, 2, 3]\n",
      "    cbits = [0, 1, 2, 3]\n",
      "    q.measure(measures,  cbits=cbits)\n",
      "    return q\n",
      "\n",
      "def run(User,params):\n",
      "    \"\"\"The entry point of the program.\"\"\"\n",
      "    q = prepare_circuits()\n",
      "    simu_res = simulate(q)\n",
      "    print(\"Hello World!\", params)\n",
      "    return {\n",
      "        \"num\": simu_res.num,\n",
      "        \"probabilities\": simu_res.probabilities.tolist(),\n",
      "    }\n",
      "\n"
     ]
    }
   ],
   "source": [
    "programx = service.program(program_id='52771606a45d42ef9450a36f47b81a3e')\n",
    "print(programx['data'])"
   ],
   "metadata": {
    "collapsed": false
   }
  },
  {
   "cell_type": "code",
   "execution_count": 6,
   "outputs": [
    {
     "name": "stdout",
     "output_type": "stream",
     "text": [
      "\n",
      "\"\"\"\n",
      "It's program used to check api.\n",
      "\"\"\"\n",
      "\n",
      "def run(User,params):\n",
      "    \"\"\"The entry point of the program.\"\"\"\n",
      "    print(\"Hello World!\", params)\n",
      "    raise Exception(\"Raised by program\")\n",
      "    # unreachable\n",
      "    return {\n",
      "        \"result\": 'error'\n",
      "    }\n",
      "\n"
     ]
    }
   ],
   "source": [
    "programx = service.program(program_id='b1915057f1e54043a1e5a093a51b9a5b')\n",
    "print(programx['data'])"
   ],
   "metadata": {
    "collapsed": false
   }
  },
  {
   "cell_type": "code",
   "execution_count": null,
   "outputs": [],
   "source": [
    "job = service.run(name='raise-exception',inputs={'param1':'zzzzzz'})"
   ],
   "metadata": {
    "collapsed": false,
    "pycharm": {
     "is_executing": true
    }
   }
  },
  {
   "cell_type": "code",
   "execution_count": null,
   "outputs": [],
   "source": [
    "print(job.result(wait=False))"
   ],
   "metadata": {
    "collapsed": false,
    "pycharm": {
     "is_executing": true
    }
   }
  },
  {
   "cell_type": "code",
   "execution_count": 18,
   "outputs": [
    {
     "data": {
      "text/plain": "'8038ef27443640778be72ae77cee83b5'"
     },
     "execution_count": 18,
     "metadata": {},
     "output_type": "execute_result"
    }
   ],
   "source": [
    "job.job_id()"
   ],
   "metadata": {
    "collapsed": false
   }
  },
  {
   "cell_type": "code",
   "execution_count": 19,
   "outputs": [
    {
     "name": "stdout",
     "output_type": "stream",
     "text": [
      "Job status: Running,logs:None\n"
     ]
    }
   ],
   "source": [
    "job.logs()"
   ],
   "metadata": {
    "collapsed": false
   }
  },
  {
   "cell_type": "code",
   "execution_count": 23,
   "outputs": [
    {
     "data": {
      "text/plain": "\"The job's status is:Running\""
     },
     "execution_count": 23,
     "metadata": {},
     "output_type": "execute_result"
    }
   ],
   "source": [
    "job.err_msg()"
   ],
   "metadata": {
    "collapsed": false
   }
  },
  {
   "cell_type": "code",
   "execution_count": 22,
   "outputs": [
    {
     "name": "stdout",
     "output_type": "stream",
     "text": [
      "e2afae0de2de482e9b057e8f510559ac\n"
     ]
    }
   ],
   "source": [
    "print(job.program_id())"
   ],
   "metadata": {
    "collapsed": false
   }
  },
  {
   "cell_type": "code",
   "execution_count": 24,
   "outputs": [
    {
     "name": "stdout",
     "output_type": "stream",
     "text": [
      "Job status: Running\n"
     ]
    },
    {
     "data": {
      "text/plain": "'Running'"
     },
     "execution_count": 24,
     "metadata": {},
     "output_type": "execute_result"
    }
   ],
   "source": [
    "job.status()"
   ],
   "metadata": {
    "collapsed": false
   }
  },
  {
   "cell_type": "code",
   "execution_count": 25,
   "outputs": [
    {
     "name": "stdout",
     "output_type": "stream",
     "text": [
      "Job 8038ef27443640778be72ae77cee83b5 status: Running, can't be delete\n"
     ]
    },
    {
     "data": {
      "text/plain": "False"
     },
     "execution_count": 25,
     "metadata": {},
     "output_type": "execute_result"
    }
   ],
   "source": [
    "job.delete()"
   ],
   "metadata": {
    "collapsed": false
   }
  },
  {
   "cell_type": "code",
   "execution_count": null,
   "outputs": [],
   "source": [],
   "metadata": {
    "collapsed": false
   }
  }
 ],
 "metadata": {
  "kernelspec": {
   "display_name": "Python 3",
   "language": "python",
   "name": "python3"
  },
  "language_info": {
   "codemirror_mode": {
    "name": "ipython",
    "version": 2
   },
   "file_extension": ".py",
   "mimetype": "text/x-python",
   "name": "python",
   "nbconvert_exporter": "python",
   "pygments_lexer": "ipython2",
   "version": "2.7.6"
  }
 },
 "nbformat": 4,
 "nbformat_minor": 0
}
