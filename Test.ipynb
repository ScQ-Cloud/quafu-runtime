{
 "cells": [
  {
   "cell_type": "code",
   "execution_count": 1,
   "outputs": [],
   "source": [
    "import datetime\n",
    "import os\n",
    "from time import sleep\n",
    "\n",
    "from clients.account import Account\n",
    "from job.job import Job\n",
    "from quafu_runtime_service import RuntimeService"
   ],
   "metadata": {
    "collapsed": false
   }
  },
  {
   "cell_type": "code",
   "execution_count": 2,
   "outputs": [
    {
     "name": "stdout",
     "output_type": "stream",
     "text": [
      "--------------------------------------------------\n",
      "program_id:168bce332e8144d686def23145db1651\n",
      " -Name: testname21\n",
      " -Description: None\n",
      "--------------------------------------------------\n",
      "program_id:18a5b4e951dd4a22b5dbf164cb494b40\n",
      " -Name: testname16\n",
      " -Description: None\n",
      "--------------------------------------------------\n",
      "program_id:23d7643ee0944f3baedfb840b35088ac\n",
      " -Name: testname15\n",
      " -Description: None\n",
      "--------------------------------------------------\n",
      "program_id:2ec1ff3b490242fb82e43a3a9a2707b8\n",
      " -Name: testname10\n",
      " -Description: None\n",
      "--------------------------------------------------\n",
      "program_id:3a22554190824d1b8cdd1c5aa9c6a4f1\n",
      " -Name: testname19\n",
      " -Description: None\n",
      "--------------------------------------------------\n",
      "program_id:520c0c8970a04fe0b4f8582527ef83b2\n",
      " -Name: testname20\n",
      " -Description: None\n",
      "--------------------------------------------------\n",
      "program_id:784376be3f8b40309be7e1e9ab7c7404\n",
      " -Name: testname1\n",
      " -Description: None\n",
      "--------------------------------------------------\n",
      "program_id:7d1f9bdb504d45fc8ea175137a6a71cb\n",
      " -Name: testname14\n",
      " -Description: None\n",
      "--------------------------------------------------\n",
      "program_id:8f77b2f6626e4f559a5af25c1d709e76\n",
      " -Name: testname17\n",
      " -Description: None\n",
      "--------------------------------------------------\n",
      "program_id:ab00c07087f04470996bac0e123330b5\n",
      " -Name: testname18\n",
      " -Description: None\n",
      "--------------------------------------------------\n",
      "program_id:b28a55a0579e4ea7b6c16e3de1723fdb\n",
      " -Name: testname11\n",
      " -Description: None\n",
      "--------------------------------------------------\n",
      "program_id:c4e96d8fd6d547c7a5a5352fc91bafc4\n",
      " -Name: testname13\n",
      " -Description: None\n"
     ]
    }
   ],
   "source": [
    "account = Account(\"testapitoken\")\n",
    "service = RuntimeService(account)\n",
    "service.list_programs(refresh=True, detailed=False, limit=20)"
   ],
   "metadata": {
    "collapsed": false
   }
  },
  {
   "cell_type": "code",
   "execution_count": 3,
   "outputs": [
    {
     "name": "stdout",
     "output_type": "stream",
     "text": [
      "import numpy as np\n",
      "from quafu import QuantumCircuit\n",
      "from quafu import simulate\n",
      "def prepare_circuits():\n",
      "    q = QuantumCircuit(5)\n",
      "    q.x(0)\n",
      "    q.x(1)\n",
      "    q.cnot(2, 1)\n",
      "    q.ry(1, np.pi / 2)\n",
      "    q.rx(2, np.pi)\n",
      "    q.rz(3, 0.1)\n",
      "    q.cz(2, 3)\n",
      "    measures = [0, 1, 2, 3]\n",
      "    cbits = [0, 1, 2, 3]\n",
      "    q.measure(measures,  cbits=cbits)\n",
      "    return q\n",
      "\n",
      "def run(backend,args):\n",
      "    \"\"\"The entry point of the program.\"\"\"\n",
      "    q = prepare_circuits()\n",
      "    simu_res = simulate(q)\n",
      "    print(\"Hello World!\", args)\n",
      "    return {\n",
      "        \"num\": simu_res.num,\n",
      "        \"probabilities\": simu_res.probabilities.tolist(),\n",
      "    }\n",
      "\n"
     ]
    }
   ],
   "source": [
    "programx = service.program(program_id='c4e96d8fd6d547c7a5a5352fc91bafc4')\n",
    "print(programx['data'])"
   ],
   "metadata": {
    "collapsed": false
   }
  },
  {
   "cell_type": "code",
   "execution_count": null,
   "outputs": [],
   "source": [],
   "metadata": {
    "collapsed": false
   }
  },
  {
   "cell_type": "markdown",
   "source": [],
   "metadata": {
    "collapsed": false
   }
  }
 ],
 "metadata": {
  "kernelspec": {
   "display_name": "Python 3",
   "language": "python",
   "name": "python3"
  },
  "language_info": {
   "codemirror_mode": {
    "name": "ipython",
    "version": 2
   },
   "file_extension": ".py",
   "mimetype": "text/x-python",
   "name": "python",
   "nbconvert_exporter": "python",
   "pygments_lexer": "ipython2",
   "version": "2.7.6"
  }
 },
 "nbformat": 4,
 "nbformat_minor": 0
}
